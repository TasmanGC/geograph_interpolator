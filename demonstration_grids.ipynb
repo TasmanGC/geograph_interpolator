{
 "cells": [
  {
   "cell_type": "code",
   "execution_count": null,
   "metadata": {},
   "outputs": [],
   "source": [
    "from geograph_interpolator import *\n",
    "\n",
    "image_fn            = r'C:\\Users\\22566465\\Desktop\\GIT\\geograph_interpolator\\Data\\grids\\demo_LR.tif'\n",
    "up_factor           = 2\n",
    "\n",
    "graph, df = image2graph(image_fn, include_diag = True, up_factor =up_factor, return_df=True)\n",
    "code_node = construct_standard_nodes(graph)\n",
    "\n",
    "visualise_3D(code_node,'data',cons=df)"
   ]
  },
  {
   "cell_type": "code",
   "execution_count": null,
   "metadata": {},
   "outputs": [],
   "source": [
    "n_feat = 2\n",
    "\n",
    "model = gridGCN(n_feat,20,1,num_hlayers=4)\n",
    "all___loss, all_logits = gnn_interpolate_grid(model, graph, node_feats=n_feat,epochs=60)"
   ]
  },
  {
   "cell_type": "code",
   "execution_count": null,
   "metadata": {},
   "outputs": [],
   "source": [
    "import matplotlib.pyplot as plt\n",
    "plt.plot(all___loss)"
   ]
  },
  {
   "cell_type": "code",
   "execution_count": null,
   "metadata": {},
   "outputs": [],
   "source": [
    "graph.ndata['predv'] = all_logits[-1].flatten()\n",
    "snodes = construct_standard_nodes(graph)\n",
    "from geograph_interpolator.viz.visualise_3D import visualise_3D\n",
    "visualise_3D(snodes,'pred')"
   ]
  },
  {
   "cell_type": "code",
   "execution_count": null,
   "metadata": {},
   "outputs": [],
   "source": [
    "# save results\n",
    "image_fn            = r'C:\\Users\\22566465\\Desktop\\GIT\\geograph_interpolator\\Data\\grids\\demo_HR.tif'\n",
    "im                  = Image.open(image_fn)  # read a tif\n",
    "hr_imarray          = np.array(im)          # node features\n",
    "\n",
    "pred_imarray = graph.ndata['predv'].numpy().reshape(hr_imarray.shape)\n",
    "fig, axs = plt.subplots(1,2)\n",
    "axs[0].set_title('HR Tile')\n",
    "axs[0].imshow(hr_imarray)\n",
    "axs[1].set_title('Up Scaled')\n",
    "axs[1].imshow(pred_imarray)"
   ]
  },
  {
   "cell_type": "code",
   "execution_count": null,
   "metadata": {},
   "outputs": [],
   "source": []
  }
 ],
 "metadata": {
  "kernelspec": {
   "display_name": "Python 3.9.15 ('geograph_interpolator')",
   "language": "python",
   "name": "python3"
  },
  "language_info": {
   "codemirror_mode": {
    "name": "ipython",
    "version": 3
   },
   "file_extension": ".py",
   "mimetype": "text/x-python",
   "name": "python",
   "nbconvert_exporter": "python",
   "pygments_lexer": "ipython3",
   "version": "3.9.15"
  },
  "orig_nbformat": 4,
  "vscode": {
   "interpreter": {
    "hash": "180fd612c91f49ca57db770398ddd907f01630fdd039b12d034a44452d089083"
   }
  }
 },
 "nbformat": 4,
 "nbformat_minor": 2
}
