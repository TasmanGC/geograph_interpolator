{
 "cells": [
  {
   "cell_type": "code",
   "execution_count": null,
   "metadata": {},
   "outputs": [],
   "source": [
    "import numpy as np\n",
    "\n",
    "\n",
    "\n",
    "def image2graph(image_fn, include_diag = True, up_factor = 1): # for the time being up_factor will need to be a positive float\n",
    "\n",
    "\n",
    "    imarray = np.array(image_fn)\n",
    "    \n"
   ]
  },
  {
   "cell_type": "code",
   "execution_count": null,
   "metadata": {},
   "outputs": [],
   "source": []
  },
  {
   "cell_type": "code",
   "execution_count": null,
   "metadata": {},
   "outputs": [],
   "source": [
    "from re import U, X\n",
    "from tkinter import Y\n",
    "import numpy as np\n",
    "from PIL import Image\n",
    "\n",
    "image_fn            = r'C:\\Users\\tasma\\Desktop\\GIT\\geograph_interpolator\\Data\\grids\\demo_LR.tif'\n",
    "up_factor           = 100\n",
    "im                  = Image.open(image_fn)  # read a tif\n",
    "imarray             = np.array(im)          # node features\n",
    "im_width, im_height = imarray.shape         # image dimensions\n",
    "up_width, up_height = (v*up_factor for v in imarray.shape)\n",
    "\n",
    "x_loc = []\n",
    "y_loc = []\n",
    "z_loc = []\n",
    "n_val = []\n",
    "\n",
    "inc_x = list(range(up_width))[0::up_factor]\n",
    "inc_y = list(range(up_height))[0::up_factor]\n",
    "\n",
    "# features\n",
    "for row_id in list(range(up_width)):\n",
    "    for col_id in list(range(up_height)):\n",
    "        x_loc.append(row_id)\n",
    "        y_loc.append(col_id)\n",
    "        z_loc.append(1)\n",
    "        if row_id in inc_x and col_id in inc_y:\n",
    "            n_val.append(imarray[int(row_id/up_factor)][int(col_id/up_factor)])\n",
    "        else:\n",
    "            n_val.append(-1)\n",
    "\n",
    "# edges\n",
    "U = []\n",
    "V = []\n",
    "\n",
    "for node_id in range(up_width*up_height):\n",
    "    node_cons = []\n",
    "\n",
    "    # lattice connections\n",
    "    # adjacent pixels in neighboring rows\n",
    "    node_cons.extend([node_id+1,node_id-1])\n",
    "    # adjacent pixels in neighboring columns\n",
    "    node_cons.extend([node_id+im_width, node_id-im_width])\n",
    "\n",
    "    # diagonal connections\n",
    "    # adjacent pixels in neighboring rows\n",
    "    node_cons.extend([node_id+im_width+1,node_id+im_width-1])\n",
    "    node_cons.extend([node_id-im_width+1,node_id-im_width-1])\n",
    "\n",
    "    node_cons = [x for x in node_cons if x>0]\n",
    "    node_cons = [x for x in node_cons if x < (up_width*up_height)]\n",
    "    node_id_list = len(node_cons)*[node_id]\n",
    "\n",
    "    U.extend(node_id_list)\n",
    "    V.extend(node_cons)\n",
    "\n",
    "import dgl\n",
    "import torch\n",
    "graph = dgl.graph((U,V))\n",
    "graph.ndata['n_dat']    = torch.tensor(n_val)\n",
    "graph.ndata['x_loc']    = torch.tensor(x_loc)\n",
    "graph.ndata['y_loc']    = torch.tensor(y_loc)\n",
    "graph.ndata['z_loc']    = torch.tensor(z_loc)\n"
   ]
  },
  {
   "cell_type": "code",
   "execution_count": null,
   "metadata": {},
   "outputs": [],
   "source": [
    "from geograph_interpolator.data_processing import CoreNode\n",
    "\n",
    "def construct_standard_nodes(graph):\n",
    "    core_node_list = []\n",
    "    counter = 0\n",
    "\n",
    "    n_dat = graph.ndata['n_dat'].numpy()\n",
    "    x_loc = graph.ndata['x_loc'].numpy()\n",
    "    y_loc = graph.ndata['y_loc'].numpy()\n",
    "    z_loc = graph.ndata['z_loc'].numpy()\n",
    "    \n",
    "    for i,d in enumerate(n_dat):\n",
    "        core_node  = CoreNode(counter,[x_loc[i],y_loc[i],z_loc[i]],params={'data':d})\n",
    "        core_node_list.append(core_node)\n",
    "        counter = counter+1\n",
    "    return(core_node_list)"
   ]
  },
  {
   "cell_type": "code",
   "execution_count": null,
   "metadata": {},
   "outputs": [],
   "source": [
    "code_node = construct_standard_nodes(graph)"
   ]
  },
  {
   "cell_type": "code",
   "execution_count": null,
   "metadata": {},
   "outputs": [],
   "source": [
    "from geograph_interpolator.viz.visualise_3D import visualise_3D\n",
    "\n",
    "\n",
    "visualise_3D(code_node,'data')"
   ]
  },
  {
   "cell_type": "code",
   "execution_count": null,
   "metadata": {},
   "outputs": [],
   "source": []
  }
 ],
 "metadata": {
  "kernelspec": {
   "display_name": "Python 3.9.12 ('ginn_gpu')",
   "language": "python",
   "name": "python3"
  },
  "language_info": {
   "codemirror_mode": {
    "name": "ipython",
    "version": 3
   },
   "file_extension": ".py",
   "mimetype": "text/x-python",
   "name": "python",
   "nbconvert_exporter": "python",
   "pygments_lexer": "ipython3",
   "version": "3.9.12"
  },
  "orig_nbformat": 4,
  "vscode": {
   "interpreter": {
    "hash": "cd7879147de7ebe8b669cae0da810c341a772c711d0152dddc67ef6ef385bd61"
   }
  }
 },
 "nbformat": 4,
 "nbformat_minor": 2
}
