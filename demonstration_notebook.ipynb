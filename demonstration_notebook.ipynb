{
 "cells": [
  {
   "cell_type": "code",
   "execution_count": 6,
   "metadata": {},
   "outputs": [],
   "source": [
    "# these modules are requried to import my code\n",
    "import  sys\n",
    "import  os\n",
    "from    pathlib import Path\n",
    "\n",
    "# this adds my code to the system path so it can be imported as if it were a python module\n",
    "cwd         = os.getcwd()\n",
    "geograph_interpolator_root  = Path(cwd).__str__()\n",
    "sys.path.append(geograph_interpolator_root)\n",
    "\n",
    "# import our package\n",
    "from geograph_interpolator import *"
   ]
  },
  {
   "cell_type": "code",
   "execution_count": 9,
   "metadata": {},
   "outputs": [],
   "source": [
    "# load the repo demo data\n",
    "node_file_name      = geograph_interpolator_root+'\\Data\\graph_features.csv'\n",
    "edge_file_name_sim  = geograph_interpolator_root+'\\Data\\graph_edges_similar.csv'\n",
    "edge_file_name_lat  = geograph_interpolator_root+'\\Data\\graph_edges_lattice.csv'\n",
    "\n",
    "core_node_list  = load_graph_nodes(node_file_name)\n",
    "lattice_edges   = load_graph_edges(edge_file_name_lat)\n",
    "similar_edges   = load_graph_edges(edge_file_name_sim)"
   ]
  },
  {
   "cell_type": "code",
   "execution_count": null,
   "metadata": {},
   "outputs": [],
   "source": [
    "# visualise the different node parameters a list can be seen here: core_node_list[0].params.keys()\n",
    "# role - either training or testing\n",
    "# labl - label\n",
    "# cond - pretend conductivity\n",
    "visualise_3D(core_node_list,'cond',similar_edges)"
   ]
  },
  {
   "cell_type": "code",
   "execution_count": null,
   "metadata": {},
   "outputs": [],
   "source": [
    "# declare global variables for later visualisation\n",
    "global graph\n",
    "global gcn_logits\n",
    "global wgcnlogits\n",
    "global gat_logits\n",
    "\n",
    "feats = ['data','zloc_n'] # feats can be a list of keys to extract from graph.ndata or number for random embedding\n",
    "insize = len(feats) if isinstance(feats,list) else feats\n",
    "\n",
    "# construct our graph objects\n",
    "graph = create_dgl_graph(core_node_list,lattice_edges)\n",
    "graph0 = create_dgl_graph(core_node_list,lattice_edges)\n",
    "graph1 = create_dgl_graph(core_node_list,lattice_edges)\n",
    "graph2 = create_dgl_graph(core_node_list,lattice_edges)\n",
    "\n",
    "# generate our GNN Models\n",
    "model_GCN = GCN(insize,5,2)\n",
    "modelwGCN = wGCN(insize,5,2)\n",
    "model_GAT = GAT(insize,5,2,5)\n",
    "\n",
    "# run interpolation using the different models\n",
    "gcn_loss, gcn_logits = gnn_interpolate(model_GCN, graph0, node_feats=feats, epochs=300)\n",
    "wgcnloss, wgcnlogits = gnn_interpolate(modelwGCN, graph1, node_feats=feats, epochs=300)\n",
    "gat_loss, gat_logits = gnn_interpolate(model_GAT, graph2, node_feats=feats, epochs=300)"
   ]
  },
  {
   "cell_type": "code",
   "execution_count": null,
   "metadata": {},
   "outputs": [],
   "source": [
    "# visualise training loss\n",
    "plt.title('Loss Value')\n",
    "plt.plot(gat_loss,label='GAT')\n",
    "plt.plot(gcn_loss,label='GCN')\n",
    "plt.plot(wgcnloss,label='wGCN')\n",
    "plt.legend()"
   ]
  },
  {
   "cell_type": "code",
   "execution_count": null,
   "metadata": {},
   "outputs": [],
   "source": [
    "# generates a prediction and opens a pyvista slider to move around results\n",
    "plotter = pv.Plotter(shape=(1, 3),notebook=False,window_size=(1920,1000))\n",
    "\n",
    "def create_mesh(value):\n",
    "    res = int(value)\n",
    "\n",
    "    x = graph.ndata['xloc'].flatten().detach().numpy()\n",
    "    y = graph.ndata['yloc'].flatten().detach().numpy()\n",
    "    z = graph.ndata['zloc'].flatten().detach().numpy()\n",
    "    p0 = torch.argmax(gcn_logits[res],dim=1)\n",
    "    p1 = torch.argmax(wgcnlogits[res],dim=1)\n",
    "    p2 = torch.argmax(gat_logits[res],dim=1)\n",
    "\n",
    "    # wow a pyvista object\n",
    "    vert = list(zip(x,y,z))\n",
    "\n",
    "    gcn_cloud = pv.PolyData(vert)\n",
    "    gcn_cloud['pred'] = p0    \n",
    "\n",
    "    wgcncloud = pv.PolyData(vert)\n",
    "    wgcncloud['pred'] = p1  \n",
    "\n",
    "    gat_cloud = pv.PolyData(vert)\n",
    "    gat_cloud['pred'] = p2   \n",
    "\n",
    "    # GCN\n",
    "    plotter.subplot(0, 0)\n",
    "    plotter.add_text(\"GCN\", font_size=30)\n",
    "    plotter.add_mesh(gcn_cloud,name='gcn_pointcloud')\n",
    "    \n",
    "    # wGCN\n",
    "    plotter.subplot(0, 1)\n",
    "    plotter.add_text(\"wGCN\", font_size=30)\n",
    "    plotter.add_mesh(wgcncloud,name='wgcnpointcloud')\n",
    "\n",
    "    # GAT\n",
    "    plotter.subplot(0, 2)\n",
    "    plotter.add_text(\"GAT\", font_size=30)\n",
    "    plotter.add_mesh(gat_cloud, name='gat_pointcloud')\n",
    "\n",
    "    return\n",
    "\n",
    "\n",
    "plotter.add_slider_widget(create_mesh, [0, 299], title='Epoch')\n",
    "plotter.show()"
   ]
  }
 ],
 "metadata": {
  "kernelspec": {
   "display_name": "Python 3.9.13 ('geograph_interpolator')",
   "language": "python",
   "name": "python3"
  },
  "language_info": {
   "codemirror_mode": {
    "name": "ipython",
    "version": 3
   },
   "file_extension": ".py",
   "mimetype": "text/x-python",
   "name": "python",
   "nbconvert_exporter": "python",
   "pygments_lexer": "ipython3",
   "version": "3.9.13"
  },
  "orig_nbformat": 4,
  "vscode": {
   "interpreter": {
    "hash": "a915d0881940a877830e8cb2b7ebf13f825f8e8031c777e4d9bbfb768068c3ff"
   }
  }
 },
 "nbformat": 4,
 "nbformat_minor": 2
}
